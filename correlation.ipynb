{
 "cells": [
  {
   "cell_type": "markdown",
   "id": "0c55fec3-aff5-4d9e-bdd9-9f7d1f5677e8",
   "metadata": {},
   "source": [
    "Franco Ortiz : \n",
    "https://github.com/ortizfram"
   ]
  },
  {
   "cell_type": "markdown",
   "id": "978167f9-fb60-4bf4-a5e3-09e45ca2f158",
   "metadata": {},
   "source": [
    "# Correlation between Posture & Personality Trait\n",
    "***Occupational back pain is a disorder,***\n",
    "\n",
    "***Determine the posture of a person with MBTI type***\n",
    "\n",
    "***conducted and extensive evaluation into the relationships between posture and personality.***\n",
    "\n",
    "if you ned more info here is a PDF i fount about [MBTI](https://www.imperial.ac.uk/media/imperial-college/administration-and-support-services/staff-development/public/impex/MBTI.pdf) with every aspect of the dataset explained"
   ]
  },
  {
   "cell_type": "markdown",
   "id": "447f303f-976f-4c7b-950f-0bc8b39046ed",
   "metadata": {},
   "source": [
    "## Feature Information"
   ]
  },
  {
   "cell_type": "markdown",
   "id": "ce1add8a-8ba6-4435-9a53-df3218350227",
   "metadata": {},
   "source": [
    "- S No : Serial number\n",
    "- AGE : Age of the participant in years\n",
    "- HEIGHT : Height of the participant in inches\n",
    "- WEIGHT : Weight of the participant in pounds\n",
    "- SEX : Gender of the participant\n",
    "- ACTIVITY LEVEL : Activity level\n",
    "- PAIN 1 : Pain in the neck\n",
    "- PAIN 2 : Pain in the thoracic\n",
    "- PAIN 3 : Pain in the lumbar\n",
    "- PAIN 4 : Pain in the sacral"
   ]
  },
  {
   "cell_type": "markdown",
   "id": "0496423d-f546-43a6-bd86-aa8b5b614ea5",
   "metadata": {},
   "source": [
    "## About this file\n",
    "The results from the personality inventory (MBTI) came in the form of a combination of letters \n",
    "- [Extraversion, Introversion, Sensing, Intuition, Thinking, Feeling, Judging, and Perceiving], \n",
    "- and numbers, 1–26.\n",
    "- Posture - ideal posture (A), kyphosis-lordosis (B), flat back (C), sway-back (D)\n",
    "\n",
    "***The pain scale data consisted of a number between 0(low) to 10 (high).***"
   ]
  },
  {
   "cell_type": "markdown",
   "id": "40d798e7-5b35-48f7-a961-6bcc5c7864e5",
   "metadata": {},
   "source": [
    "---"
   ]
  },
  {
   "cell_type": "code",
   "execution_count": 4,
   "id": "bdd6abf8-d9d2-4d9c-8a3f-4a66ea5afaf4",
   "metadata": {},
   "outputs": [],
   "source": [
    "import pandas as pd\n",
    "import matplotlib.pyplot as plt"
   ]
  },
  {
   "cell_type": "code",
   "execution_count": 6,
   "id": "408cad66-74d9-4ff1-96f7-1c447bc0e6f8",
   "metadata": {},
   "outputs": [
    {
     "data": {
      "text/html": [
       "<div>\n",
       "<style scoped>\n",
       "    .dataframe tbody tr th:only-of-type {\n",
       "        vertical-align: middle;\n",
       "    }\n",
       "\n",
       "    .dataframe tbody tr th {\n",
       "        vertical-align: top;\n",
       "    }\n",
       "\n",
       "    .dataframe thead th {\n",
       "        text-align: right;\n",
       "    }\n",
       "</style>\n",
       "<table border=\"1\" class=\"dataframe\">\n",
       "  <thead>\n",
       "    <tr style=\"text-align: right;\">\n",
       "      <th></th>\n",
       "      <th>S No</th>\n",
       "      <th>AGE</th>\n",
       "      <th>HEIGHT</th>\n",
       "      <th>WEIGHT</th>\n",
       "      <th>SEX</th>\n",
       "      <th>ACTIVITY LEVEL</th>\n",
       "      <th>PAIN 1</th>\n",
       "      <th>PAIN 2</th>\n",
       "      <th>PAIN 3</th>\n",
       "      <th>PAIN 4</th>\n",
       "      <th>MBTI</th>\n",
       "      <th>E</th>\n",
       "      <th>I</th>\n",
       "      <th>S</th>\n",
       "      <th>N</th>\n",
       "      <th>T</th>\n",
       "      <th>F</th>\n",
       "      <th>J</th>\n",
       "      <th>P</th>\n",
       "      <th>POSTURE</th>\n",
       "    </tr>\n",
       "  </thead>\n",
       "  <tbody>\n",
       "    <tr>\n",
       "      <th>0</th>\n",
       "      <td>1</td>\n",
       "      <td>53</td>\n",
       "      <td>62</td>\n",
       "      <td>125</td>\n",
       "      <td>Female</td>\n",
       "      <td>Low</td>\n",
       "      <td>0.0</td>\n",
       "      <td>0.0</td>\n",
       "      <td>0.0</td>\n",
       "      <td>0.0</td>\n",
       "      <td>ESFJ</td>\n",
       "      <td>18</td>\n",
       "      <td>3</td>\n",
       "      <td>17</td>\n",
       "      <td>9</td>\n",
       "      <td>9</td>\n",
       "      <td>13</td>\n",
       "      <td>18</td>\n",
       "      <td>4</td>\n",
       "      <td>A</td>\n",
       "    </tr>\n",
       "    <tr>\n",
       "      <th>1</th>\n",
       "      <td>2</td>\n",
       "      <td>52</td>\n",
       "      <td>69</td>\n",
       "      <td>157</td>\n",
       "      <td>Male</td>\n",
       "      <td>High</td>\n",
       "      <td>7.0</td>\n",
       "      <td>8.0</td>\n",
       "      <td>5.0</td>\n",
       "      <td>3.0</td>\n",
       "      <td>ISTJ</td>\n",
       "      <td>6</td>\n",
       "      <td>15</td>\n",
       "      <td>14</td>\n",
       "      <td>12</td>\n",
       "      <td>21</td>\n",
       "      <td>3</td>\n",
       "      <td>13</td>\n",
       "      <td>9</td>\n",
       "      <td>B</td>\n",
       "    </tr>\n",
       "    <tr>\n",
       "      <th>2</th>\n",
       "      <td>3</td>\n",
       "      <td>30</td>\n",
       "      <td>69</td>\n",
       "      <td>200</td>\n",
       "      <td>Male</td>\n",
       "      <td>High</td>\n",
       "      <td>0.0</td>\n",
       "      <td>0.0</td>\n",
       "      <td>0.0</td>\n",
       "      <td>0.0</td>\n",
       "      <td>ESTJ</td>\n",
       "      <td>15</td>\n",
       "      <td>6</td>\n",
       "      <td>16</td>\n",
       "      <td>10</td>\n",
       "      <td>15</td>\n",
       "      <td>9</td>\n",
       "      <td>12</td>\n",
       "      <td>10</td>\n",
       "      <td>A</td>\n",
       "    </tr>\n",
       "    <tr>\n",
       "      <th>3</th>\n",
       "      <td>4</td>\n",
       "      <td>51</td>\n",
       "      <td>66</td>\n",
       "      <td>175</td>\n",
       "      <td>Male</td>\n",
       "      <td>Moderate</td>\n",
       "      <td>9.5</td>\n",
       "      <td>9.5</td>\n",
       "      <td>9.5</td>\n",
       "      <td>1.5</td>\n",
       "      <td>ISTJ</td>\n",
       "      <td>6</td>\n",
       "      <td>15</td>\n",
       "      <td>21</td>\n",
       "      <td>5</td>\n",
       "      <td>13</td>\n",
       "      <td>11</td>\n",
       "      <td>19</td>\n",
       "      <td>3</td>\n",
       "      <td>D</td>\n",
       "    </tr>\n",
       "    <tr>\n",
       "      <th>4</th>\n",
       "      <td>5</td>\n",
       "      <td>45</td>\n",
       "      <td>63</td>\n",
       "      <td>199</td>\n",
       "      <td>Female</td>\n",
       "      <td>Moderate</td>\n",
       "      <td>4.0</td>\n",
       "      <td>5.0</td>\n",
       "      <td>2.0</td>\n",
       "      <td>2.0</td>\n",
       "      <td>ENFJ</td>\n",
       "      <td>14</td>\n",
       "      <td>7</td>\n",
       "      <td>20</td>\n",
       "      <td>6</td>\n",
       "      <td>9</td>\n",
       "      <td>15</td>\n",
       "      <td>16</td>\n",
       "      <td>6</td>\n",
       "      <td>A</td>\n",
       "    </tr>\n",
       "  </tbody>\n",
       "</table>\n",
       "</div>"
      ],
      "text/plain": [
       "   S No  AGE  HEIGHT  WEIGHT     SEX ACTIVITY LEVEL  PAIN 1  PAIN 2  PAIN 3  \\\n",
       "0     1   53      62     125  Female            Low     0.0     0.0     0.0   \n",
       "1     2   52      69     157    Male           High     7.0     8.0     5.0   \n",
       "2     3   30      69     200    Male           High     0.0     0.0     0.0   \n",
       "3     4   51      66     175    Male       Moderate     9.5     9.5     9.5   \n",
       "4     5   45      63     199  Female       Moderate     4.0     5.0     2.0   \n",
       "\n",
       "   PAIN 4  MBTI   E   I   S   N   T   F   J   P POSTURE  \n",
       "0     0.0  ESFJ  18   3  17   9   9  13  18   4       A  \n",
       "1     3.0  ISTJ   6  15  14  12  21   3  13   9       B  \n",
       "2     0.0  ESTJ  15   6  16  10  15   9  12  10       A  \n",
       "3     1.5  ISTJ   6  15  21   5  13  11  19   3       D  \n",
       "4     2.0  ENFJ  14   7  20   6   9  15  16   6       A  "
      ]
     },
     "execution_count": 6,
     "metadata": {},
     "output_type": "execute_result"
    }
   ],
   "source": [
    "df = pd.read_csv(\"data/mbti.csv\")\n",
    "df.head()"
   ]
  },
  {
   "cell_type": "markdown",
   "id": "fa0646a8-1a90-4f98-b6c4-c2bd5b374fe9",
   "metadata": {},
   "source": [
    "---"
   ]
  },
  {
   "cell_type": "markdown",
   "id": "770fc94d-d0ce-4190-bdb5-9a8e8edc1b4e",
   "metadata": {},
   "source": [
    "## EDA"
   ]
  }
 ],
 "metadata": {
  "kernelspec": {
   "display_name": "Python 3 (ipykernel)",
   "language": "python",
   "name": "python3"
  },
  "language_info": {
   "codemirror_mode": {
    "name": "ipython",
    "version": 3
   },
   "file_extension": ".py",
   "mimetype": "text/x-python",
   "name": "python",
   "nbconvert_exporter": "python",
   "pygments_lexer": "ipython3",
   "version": "3.10.7"
  }
 },
 "nbformat": 4,
 "nbformat_minor": 5
}
