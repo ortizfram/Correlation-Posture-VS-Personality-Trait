{
 "cells": [
  {
   "cell_type": "markdown",
   "id": "447f303f-976f-4c7b-950f-0bc8b39046ed",
   "metadata": {},
   "source": [
    "## Features"
   ]
  },
  {
   "cell_type": "markdown",
   "id": "ce1add8a-8ba6-4435-9a53-df3218350227",
   "metadata": {},
   "source": [
    "- S No : Serial number\n",
    "- AGE : Age of the participant in years\n",
    "- HEIGHT : Height of the participant in inches\n",
    "- WEIGHT : Weight of the participant in pounds\n",
    "- SEX : Gender of the participant\n",
    "- ACTIVITY LEVEL : Activity level\n",
    "- PAIN 1 : Pain in the neck\n",
    "- PAIN 2 : Pain in the thoracic\n",
    "- PAIN 3 : Pain in the lumbar\n",
    "- PAIN 4 : Pain in the sacral"
   ]
  },
  {
   "cell_type": "markdown",
   "id": "0496423d-f546-43a6-bd86-aa8b5b614ea5",
   "metadata": {},
   "source": [
    "## About this file\n",
    "The results from the personality inventory (MBTI) came in the form of a combination of letters \n",
    "- [Extraversion, Introversion, Sensing, Intuition, Thinking, Feeling, Judging, and Perceiving], \n",
    "- and numbers, 1–26.\n",
    "\n",
    "***The pain scale data consisted of a number between 0(low) to 10 (high).***"
   ]
  }
 ],
 "metadata": {
  "kernelspec": {
   "display_name": "Python 3 (ipykernel)",
   "language": "python",
   "name": "python3"
  },
  "language_info": {
   "codemirror_mode": {
    "name": "ipython",
    "version": 3
   },
   "file_extension": ".py",
   "mimetype": "text/x-python",
   "name": "python",
   "nbconvert_exporter": "python",
   "pygments_lexer": "ipython3",
   "version": "3.10.7"
  }
 },
 "nbformat": 4,
 "nbformat_minor": 5
}
